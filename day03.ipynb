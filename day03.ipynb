{
 "cells": [
  {
   "cell_type": "code",
   "execution_count": 1,
   "metadata": {},
   "outputs": [
    {
     "data": {
      "text/plain": [
       "0"
      ]
     },
     "execution_count": 1,
     "metadata": {},
     "output_type": "execute_result"
    }
   ],
   "source": [
    "# 버튼이 동작하는 창\n",
    "# !pip install pybithumb\n",
    "\n",
    "import pybithumb\n",
    "import sys                     # 하드웨어 접근 모듈\n",
    "from PyQt5.QtWidgets import *  # 파이큐티 관련 모듈\n",
    "from PyQt5 import uic          # ui 관련 모듈\n",
    "\n",
    "form_class = uic.loadUiType(\"day03.ui\")[0]   # pyqt로 만든 ui 폼 불러오기 \n",
    "tickers = [\"BTC\",\"ETH\",\"XRP\",\"ADA\"]\n",
    "\n",
    "class MyWindow(QMainWindow, form_class):     # MyWindow 클래스 를 상속받아서 작성\n",
    "    def __init__(self):                      # 생성자로 창생성\n",
    "        super().__init__()                   # 부모의 생성자를 이용\n",
    "        self.setupUi(self)                   # Ui 창 생성\n",
    "        self.pushButton.clicked.connect(self.btn_clicked)  # 단추 클릭시 열결되는 매서드 정의\n",
    "\n",
    "    def btn_clicked(self):\n",
    "        for i, ticker in enumerate(tickers):\n",
    "\n",
    "            item = QTableWidgetItem(ticker)\n",
    "            self.tableWidget.setItem(i, 0, item)\n",
    "\n",
    "            price = QTableWidgetItem(str(pybithumb.get_current_price(ticker)))\n",
    "            self.tableWidget.setItem(i, 1, price)\n",
    "\n",
    "\n",
    "        \n",
    "app = QApplication(sys.argv)                 # 파이썬은 원래 인터프리터 -> 한줄씩 실행후 창이 꺼져야 정상\n",
    "window = MyWindow()                          # 윈도우 클래스로 객체 생성\n",
    "window.show()                                # 생성한 객체를 통해 창을 보여주는 \n",
    "app.exec_()                                  # 윈도우 창이 열린 상태로 계속 대기 유지"
   ]
  }
 ],
 "metadata": {
  "interpreter": {
   "hash": "8ee190d9a1ae9aeb842b161a896df82ba4047e297c3956f13d62a7463aac8ceb"
  },
  "kernelspec": {
   "display_name": "Python 3.9.7 ('base')",
   "language": "python",
   "name": "python3"
  },
  "language_info": {
   "codemirror_mode": {
    "name": "ipython",
    "version": 3
   },
   "file_extension": ".py",
   "mimetype": "text/x-python",
   "name": "python",
   "nbconvert_exporter": "python",
   "pygments_lexer": "ipython3",
   "version": "3.9.7"
  },
  "orig_nbformat": 4
 },
 "nbformat": 4,
 "nbformat_minor": 2
}
